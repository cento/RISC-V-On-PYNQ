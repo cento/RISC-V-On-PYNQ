{
 "cells": [
  {
   "cell_type": "markdown",
   "metadata": {
    "collapsed": true
   },
   "source": [
    "# Packaging an Overlay\n",
    "\n",
    "This notebook will demonstrate how to package an Overlay. This notebook depends on the previous three notebooks:\n",
    "\n",
    "   1. **[Downloading Dependencies](1-Downloading-And-Configuring.ipynb)**\n",
    "   2. **[Creating a Bitstream](2-Creating-A-Bitstream.ipynb)**\n",
    "   3. **[Compiling the RISC-V GCC Toolchain](3-Compiling-RISC-V-GCC-Toolchain)**\n"
   ]
  },
  {
   "cell_type": "markdown",
   "metadata": {},
   "source": [
    "## Outputs from **[Creating a Bitstream](2-Creating-A-Bitstream.ipynb)**\n",
    "\n",
    "The first two critical components of a PYNQ overlay are a `.tcl` script file and a bitfile. These files should have been created in **[Creating a Bitstream](2-Creating-A-Bitstream.ipynb)** and with the names `tutorial.tcl` and `tutorial.bit`.\n",
    "\n",
    "Verify that the following files are in the `<Path-To-RISC-V-On-PYNQ>/riscvonpynq/picorv32/tut/` folder of your PYNQ-RISC-V-Tutorial repository on your host computer. \n",
    "       \n",
    "   1. tutorial.tcl (With the picorv32 IP block and all other associated IP)\n",
    "   2. tutorial.bit (Compiled using the tutorial.tcl file)\n",
    "   \n",
    "Using [SAMBA](http://pynq.readthedocs.io/en/v2.0/getting_started.html#accessing-files-on-the-board), or SCP, copy these files from your host machine to the directory `/home/xilinx/RISC-V-On-PYNQ/tutorial/riscv/` on your PYNQ board."
   ]
  },
  {
   "cell_type": "markdown",
   "metadata": {},
   "source": [
    "## Testing the Tutorial Overlay \n",
    "\n",
    "Now that the files have been made we need to verify that they are correct. Everything that we have created gives us a working overlay.\n",
    "\n",
    "Now, for the first time, try loading your overlay by running the following cell:\n",
    "\n",
    "> **Note:** \n",
    "> The first two lines change the search path for this tutorial for this namespace (i.e. this change is not permanent)"
   ]
  },
  {
   "cell_type": "code",
   "execution_count": 2,
   "metadata": {},
   "outputs": [
    {
     "data": {
      "application/javascript": "\nrequire(['notebook/js/codecell'], function(codecell) {\n  codecell.CodeCell.options_default.highlight_modes[\n      'magic_text/x-csrc'] = {'reg':[/^%%microblaze/]};\n  Jupyter.notebook.events.one('kernel_ready.Kernel', function(){\n      Jupyter.notebook.get_cells().map(function(cell){\n          if (cell.cell_type == 'code'){ cell.auto_highlight(); } }) ;\n  });\n});\n"
     },
     "metadata": {},
     "output_type": "display_data"
    },
    {
     "data": {
      "application/javascript": "\nrequire(['notebook/js/codecell'], function(codecell) {\n  codecell.CodeCell.options_default.highlight_modes['magic_text/x-asmx'] = {'reg':[/^%%riscvasm/]};\n  Jupyter.notebook.events.one('kernel_ready.Kernel', function(){\n      Jupyter.notebook.get_cells().map(function(cell){\n          if (cell.cell_type == 'code'){ cell.auto_highlight(); } }) ;\n  });\n});\n"
     },
     "metadata": {},
     "output_type": "display_data"
    },
    {
     "data": {
      "application/javascript": "\nrequire(['notebook/js/codecell'], function(codecell) {\n  codecell.CodeCell.options_default.highlight_modes['magic_text/x-csrc'] = {'reg':[/^%%riscvc/]};\n  Jupyter.notebook.events.one('kernel_ready.Kernel', function(){\n      Jupyter.notebook.get_cells().map(function(cell){\n          if (cell.cell_type == 'code'){ cell.auto_highlight(); } }) ;\n  });\n});\n"
     },
     "metadata": {},
     "output_type": "display_data"
    },
    {
     "data": {
      "application/javascript": "\nrequire(['notebook/js/codecell'], function(codecell) {\n  codecell.CodeCell.options_default.highlight_modes['magic_text/x-c++src'] = {'reg':[/^%%riscvcpp/]};\n  Jupyter.notebook.events.one('kernel_ready.Kernel', function(){\n      Jupyter.notebook.get_cells().map(function(cell){\n          if (cell.cell_type == 'code'){ cell.auto_highlight(); } }) ;\n  });\n});\n"
     },
     "metadata": {},
     "output_type": "display_data"
    },
    {
     "name": "stderr",
     "output_type": "stream",
     "text": [
      "/usr/local/lib/python3.6/dist-packages/pynq/overlay.py:299: UserWarning: Users will not get PARAMETERS / REGISTERS information through TCL files. HWH file is recommended.\n",
      "  warnings.warn(message, UserWarning)\n"
     ]
    }
   ],
   "source": [
    "import sys\n",
    "import os\n",
    "os.chdir(\"/home/xilinx/RISC-V-On-PYNQ/riscvonpynq/picorv32/tut\")\n",
    "sys.path.insert(0, '/home/xilinx/RISC-V-On-PYNQ/riscvonpynq/picorv32')\n",
    "sys.path.insert(0, '/home/xilinx/RISC-V-On-PYNQ')\n",
    "from tut.tutorial import TutorialOverlay\n",
    "overlay = TutorialOverlay(\"tutorial.bit\")"
   ]
  },
  {
   "cell_type": "markdown",
   "metadata": {},
   "source": [
    "If the cell above fails, check that you have completed the steps above correctly.\n",
    "\n",
    "To test code on your processor, run the following Jupyter magic. This cell defines a main method. It expects two arguments. The first argument is the path of the file on the ARM PS. The second argument is an array of at least three elements. \n",
    "\n",
    "The program returns the third element of the second argument.\n",
    "\n",
    "Run the following cell to compile it. If the cell fails, check that `<Path-To-RISC-V-On-PYNQ>/riscvonpynq/picorv32/tut/build` exists."
   ]
  },
  {
   "cell_type": "code",
   "execution_count": 2,
   "metadata": {
    "scrolled": true
   },
   "outputs": [
    {
     "data": {
      "text/html": [
       "<pre>Compilation of program test SUCCEEDED</pre>"
      ],
      "text/plain": [
       "<IPython.core.display.HTML object>"
      ]
     },
     "execution_count": 2,
     "metadata": {},
     "output_type": "execute_result"
    }
   ],
   "source": [
    "%%riscvc test overlay.tutorialProcessor\n",
    "\n",
    "int main(int argc, char ** argv){\n",
    "    unsigned int * arr = (unsigned int *)argv[1];\n",
    "    return arr[2];\n",
    "}"
   ]
  },
  {
   "cell_type": "markdown",
   "metadata": {},
   "source": [
    "To run the program above, execute the following cell. The first argument will automatically be created by the `run` method of the tutorialProcessor"
   ]
  },
  {
   "cell_type": "code",
   "execution_count": 3,
   "metadata": {},
   "outputs": [
    {
     "name": "stdout",
     "output_type": "stream",
     "text": [
      "Test passed!\n"
     ]
    }
   ],
   "source": [
    "import numpy as np\n",
    "arg1 = np.array([4,2,3], np.uint32)\n",
    "\n",
    "retval = overlay.tutorialProcessor.run(test, arg1)\n",
    "\n",
    "if(retval != arg1[2]):\n",
    "    print(\"Test failed!\")\n",
    "else:\n",
    "    print(\"Test passed!\")"
   ]
  },
  {
   "cell_type": "markdown",
   "metadata": {},
   "source": [
    "If the test passed, congratulations!"
   ]
  },
  {
   "cell_type": "markdown",
   "metadata": {},
   "source": [
    "# Installing the Tutorial Overlay\n",
    "\n",
    "We have added the overlay created in this tutorial to the `riscvonpynq` package in the local repository. To install it formally, run the following cell: "
   ]
  },
  {
   "cell_type": "code",
   "execution_count": null,
   "metadata": {},
   "outputs": [],
   "source": [
    "!pip3.6 install --upgrade /home/xilinx/RISC-V-On-PYNQ/"
   ]
  },
  {
   "cell_type": "markdown",
   "metadata": {},
   "source": [
    "If the cell above completes successfully, you can now run the previous cells without modifying the system path:"
   ]
  },
  {
   "cell_type": "code",
   "execution_count": null,
   "metadata": {},
   "outputs": [],
   "source": [
    "from riscvonpynq.picorv32.tut.tutorial import TutorialOverlay\n",
    "\n",
    "overlay = TutorialOverlay(\"tutorial.bit\")"
   ]
  },
  {
   "cell_type": "code",
   "execution_count": null,
   "metadata": {},
   "outputs": [],
   "source": [
    "%%riscvc test overlay.tutorialProcessor\n",
    "\n",
    "int main(int argc, char ** argv){\n",
    "    unsigned int * arr = (unsigned int *)argv[1];\n",
    "    return arr[2];\n",
    "}"
   ]
  },
  {
   "cell_type": "code",
   "execution_count": null,
   "metadata": {},
   "outputs": [],
   "source": [
    "import numpy as np\n",
    "arg1 = np.array([4,2,3], np.uint32)\n",
    "\n",
    "retval = overlay.tutorialProcessor.run(test, arg1)\n",
    "\n",
    "if(retval != arg1[2]):\n",
    "    print(\"Test failed!\")\n",
    "else:\n",
    "    print(\"Test passed!\")"
   ]
  }
 ],
 "metadata": {
  "kernelspec": {
   "display_name": "Python 3",
   "language": "python",
   "name": "python3"
  },
  "language_info": {
   "codemirror_mode": {
    "name": "ipython",
    "version": 3
   },
   "file_extension": ".py",
   "mimetype": "text/x-python",
   "name": "python",
   "nbconvert_exporter": "python",
   "pygments_lexer": "ipython3",
   "version": "3.6.9"
  }
 },
 "nbformat": 4,
 "nbformat_minor": 2
}
